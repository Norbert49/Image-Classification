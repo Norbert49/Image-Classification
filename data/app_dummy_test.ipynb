{
 "cells": [
  {
   "cell_type": "code",
   "execution_count": 2,
   "metadata": {},
   "outputs": [],
   "source": []
  },
  {
   "cell_type": "code",
   "execution_count": 4,
   "metadata": {},
   "outputs": [
    {
     "name": "stdout",
     "output_type": "stream",
     "text": [
      "Downloading data from https://www.cs.toronto.edu/~kriz/cifar-10-python.tar.gz\n",
      "170498071/170498071 [==============================] - 153s 1us/step\n",
      "Training images: <class 'numpy.ndarray'> (50000, 32, 32, 3)\n",
      "Training labels: <class 'numpy.ndarray'> (50000, 1)\n",
      "Test images: <class 'numpy.ndarray'> (10000, 32, 32, 3)\n",
      "Test labels: <class 'numpy.ndarray'> (10000, 1)\n"
     ]
    }
   ],
   "source": []
  },
  {
   "cell_type": "code",
   "execution_count": 14,
   "metadata": {},
   "outputs": [
    {
     "name": "stdout",
     "output_type": "stream",
     "text": [
      "1/1 [==============================] - 10s 10s/step\n",
      "Predicted Class: cat\n"
     ]
    }
   ],
   "source": [
    "# Import libraries\n",
    "import tensorflow as tf\n",
    "from tensorflow.keras.preprocessing import image\n",
    "from tensorflow.keras.applications.inception_v3 import InceptionV3, preprocess_input\n",
    "import os\n",
    "import numpy as np\n",
    "\n",
    "# Define the path to your model (replace with your actual model location)\n",
    "model_path = os.path.join('..', 'models', 'transfer_learning_model.h5')  # Adjust path if needed\n",
    "\n",
    "# Loading the pre-trained model (replace with your model architecture if not InceptionV3)\n",
    "model = tf.keras.models.load_model(model_path)\n",
    "\n",
    "# Defining the path to your image (replace with the filename)\n",
    "image_path = os.path.join('..', 'data', 'test_file', 'c1.jpeg')  # Adjust filename\n",
    "\n",
    "# Loading the image and pre-process (adjust based on your model's requirements) --------------> our pre-trained model takes 128,128\n",
    "img = image.load_img(image_path, target_size=(128, 128))  # Adjust size if needed\n",
    "img = image.img_to_array(img)\n",
    "img = preprocess_input(img)  \n",
    "img = np.expand_dims(img, axis=0)  # Add a dimension for batch processing\n",
    "\n",
    "\n",
    "prediction = model.predict(img)\n",
    "\n",
    "predicted_class_index = np.argmax(prediction)\n",
    "\n",
    "# Define class labels \n",
    "class_labels = ['airplane', 'automobile', 'bird', 'cat', 'deer', 'dog', 'frog', 'horse', 'ship', 'truck']\n",
    "\n",
    "print(f\"Predicted Class: {class_labels[predicted_class_index]}\")\n"
   ]
  },
  {
   "cell_type": "code",
   "execution_count": null,
   "metadata": {},
   "outputs": [],
   "source": []
  }
 ],
 "metadata": {
  "kernelspec": {
   "display_name": "Python 3",
   "language": "python",
   "name": "python3"
  },
  "language_info": {
   "codemirror_mode": {
    "name": "ipython",
    "version": 3
   },
   "file_extension": ".py",
   "mimetype": "text/x-python",
   "name": "python",
   "nbconvert_exporter": "python",
   "pygments_lexer": "ipython3",
   "version": "3.11.4"
  }
 },
 "nbformat": 4,
 "nbformat_minor": 2
}
